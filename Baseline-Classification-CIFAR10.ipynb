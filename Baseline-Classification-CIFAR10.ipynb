{
 "cells": [
  {
   "cell_type": "markdown",
   "id": "a1d67128-e5ec-4145-b61f-3de9e3c2c1cc",
   "metadata": {
    "tags": []
   },
   "source": [
    "#  Baseline: Varying Learning Rate VS Espilon (Grid Search)"
   ]
  },
  {
   "cell_type": "markdown",
   "id": "9b113b2d-546f-4424-9270-c1e92934e8c0",
   "metadata": {
    "tags": []
   },
   "source": [
    "## ******************************************************************************************\n",
    "## 1. Classifiers (VGG11, ResNet34, AlexNet, DenseNet)\n",
    "## ******************************************************************************************"
   ]
  },
  {
   "cell_type": "code",
   "execution_count": null,
   "id": "93e44ce4-4072-497e-ac53-bb65bd7c2af2",
   "metadata": {},
   "outputs": [],
   "source": [
    "model = 'vgg'  # 'vgg', 'resnet', 'alexnet', 'densenet'\n",
    "total_epoch = 150\n",
    "decay_epoch = 100"
   ]
  },
  {
   "cell_type": "markdown",
   "id": "cc560c12-499c-4bf0-aafc-9e71f47bc8ef",
   "metadata": {
    "tags": []
   },
   "source": [
    "## 1.1. Adam"
   ]
  },
  {
   "cell_type": "code",
   "execution_count": null,
   "id": "f8dc3683-38cd-4ab7-89a7-599e2dcf1f26",
   "metadata": {},
   "outputs": [],
   "source": [
    "optim =  \"adam\"\n",
    "eps_vec = [1e-8, 1e-7, 1e-6, 1e-5, 1e-4, 1e-3, 1e-2, 1e-1]\n",
    "lr_vec = [2e-5, 5e-5, 1e-4, 2e-4, 5e-4, 1e-3, 2e-3, 5e-3, 1e-2, 2e-2, 5e-2]"
   ]
  },
  {
   "cell_type": "code",
   "execution_count": null,
   "id": "8d24a0e6-b0d6-4bea-856a-f1077774ec67",
   "metadata": {
    "scrolled": true,
    "tags": []
   },
   "outputs": [],
   "source": [
    "for eps in eps_vec:  \n",
    "    for lr in lr_vec:  \n",
    "        print('eps: '+str(eps))\n",
    "        print('lr: '+str(lr))\n",
    "        !CUDA_VISIBLE_DEVICES=0 python Experiments/classification_cifar10/main.py \\\n",
    "        --model $model  --optim $optim --lr $lr --total_epoch $total_epoch --decay_epoch $decay_epoch \\\n",
    "        --eps $eps\n",
    "        print('\\n \\n')"
   ]
  },
  {
   "cell_type": "markdown",
   "id": "6464b6fb-96f6-4abb-9ac1-8eb29ef0e38d",
   "metadata": {},
   "source": [
    "## 1.2. RMSprop"
   ]
  },
  {
   "cell_type": "code",
   "execution_count": null,
   "id": "4175fad4-0dc0-4dc0-8fe9-b7f6985dace7",
   "metadata": {},
   "outputs": [],
   "source": [
    "optim =  \"rmsprop\"\n",
    "eps_vec = [1e-8, 1e-7, 1e-6, 1e-5, 1e-4, 1e-3, 1e-2, 1e-1]\n",
    "lr_vec = [2e-5, 5e-5, 1e-4, 2e-4, 5e-4, 1e-3, 2e-3, 5e-3, 1e-2, 2e-2, 5e-2]"
   ]
  },
  {
   "cell_type": "code",
   "execution_count": null,
   "id": "fb1ce072-928f-4995-97ef-6b08853e49e3",
   "metadata": {
    "scrolled": true,
    "tags": []
   },
   "outputs": [],
   "source": [
    "for eps in eps_vec:  \n",
    "    for lr in lr_vec:  \n",
    "        print('eps: '+str(eps))\n",
    "        print('lr: '+str(lr))\n",
    "        !CUDA_VISIBLE_DEVICES=0 python Experiments/classification_cifar10/main.py \\\n",
    "        --model $model  --optim $optim --lr $lr --total_epoch $total_epoch --decay_epoch $decay_epoch \\\n",
    "        --eps $eps\n",
    "        print('\\n \\n')"
   ]
  },
  {
   "cell_type": "markdown",
   "id": "13567041-690d-48b1-8407-bf44ffb9a038",
   "metadata": {
    "tags": []
   },
   "source": [
    "## 1.3. AdaBelief"
   ]
  },
  {
   "cell_type": "code",
   "execution_count": null,
   "id": "f12f97c3-c595-4bef-8103-f8e61c049efc",
   "metadata": {},
   "outputs": [],
   "source": [
    "optim =  \"adabelief\"\n",
    "eps_vec = [1e-16, 1e-14, 1e-12, 1e-10, 1e-8, 1e-6, 1e-4]\n",
    "lr_vec = [2e-5, 5e-5, 1e-4, 2e-4, 5e-4, 1e-3, 2e-3, 5e-3, 1e-2, 2e-2, 5e-2]"
   ]
  },
  {
   "cell_type": "code",
   "execution_count": null,
   "id": "516d338c-44f6-48bb-b99b-035814e22f23",
   "metadata": {
    "scrolled": true,
    "tags": []
   },
   "outputs": [],
   "source": [
    "for eps in eps_vec:  \n",
    "    for lr in lr_vec:  \n",
    "        print('eps: '+str(eps))\n",
    "        print('lr: '+str(lr))\n",
    "        !CUDA_VISIBLE_DEVICES=0 python Experiments/classification_cifar10/main.py \\\n",
    "        --model $model  --optim $optim --lr $lr --total_epoch $total_epoch --decay_epoch $decay_epoch \\\n",
    "        --eps $eps\n",
    "        print('\\n \\n')"
   ]
  },
  {
   "cell_type": "markdown",
   "id": "eb1b6dd2-7150-449e-a3b7-13a10761ac9e",
   "metadata": {},
   "source": [
    "## 1.4. AdamMomentum"
   ]
  },
  {
   "cell_type": "code",
   "execution_count": null,
   "id": "de924806-4c67-49d1-84e6-10e20dea2a2e",
   "metadata": {},
   "outputs": [],
   "source": [
    "optim =  \"adammom\"\n",
    "eps_vec = [1e-16, 1e-14, 1e-12, 1e-10, 1e-8, 1e-6, 1e-4]\n",
    "lr_vec = [2e-5, 5e-5, 1e-4, 2e-4, 5e-4, 1e-3, 2e-3, 5e-3, 1e-2, 2e-2, 5e-2]"
   ]
  },
  {
   "cell_type": "code",
   "execution_count": null,
   "id": "226622d5-713e-4a06-96dd-95cede786e89",
   "metadata": {
    "scrolled": true,
    "tags": []
   },
   "outputs": [],
   "source": [
    "for eps in eps_vec:  \n",
    "    for lr in lr_vec:  \n",
    "        print('eps: '+str(eps))\n",
    "        print('lr: '+str(lr))\n",
    "        !CUDA_VISIBLE_DEVICES=0 python Experiments/classification_cifar10/main.py \\\n",
    "        --model $model  --optim $optim --lr $lr --total_epoch $total_epoch --decay_epoch $decay_epoch \\\n",
    "        --eps $eps\n",
    "        print('\\n \\n')"
   ]
  },
  {
   "cell_type": "code",
   "execution_count": null,
   "id": "d6cb6d06-8123-41a0-b782-1f070f50908c",
   "metadata": {},
   "outputs": [],
   "source": []
  }
 ],
 "metadata": {
  "kernelspec": {
   "display_name": "Python 3 (ipykernel)",
   "language": "python",
   "name": "python3"
  },
  "language_info": {
   "codemirror_mode": {
    "name": "ipython",
    "version": 3
   },
   "file_extension": ".py",
   "mimetype": "text/x-python",
   "name": "python",
   "nbconvert_exporter": "python",
   "pygments_lexer": "ipython3",
   "version": "3.8.16"
  }
 },
 "nbformat": 4,
 "nbformat_minor": 5
}
