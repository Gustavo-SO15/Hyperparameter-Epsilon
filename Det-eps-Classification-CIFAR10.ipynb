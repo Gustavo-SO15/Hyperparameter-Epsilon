{
 "cells": [
  {
   "cell_type": "markdown",
   "id": "14f48b50-95f3-4e3b-9e31-c7863f080855",
   "metadata": {
    "tags": []
   },
   "source": [
    "#  Computing Search Space for Hyperparameter Epsilon"
   ]
  },
  {
   "cell_type": "markdown",
   "id": "3e4f3672-e3b7-4342-ab93-a5421e45ad12",
   "metadata": {
    "tags": []
   },
   "source": [
    "## ******************************************************************************************\n",
    "## 1. Classifiers (VGG11, ResNet34, AlexNet, DenseNet)\n",
    "## ******************************************************************************************"
   ]
  },
  {
   "cell_type": "code",
   "execution_count": null,
   "id": "79b35daa-2614-4944-84b4-c03e616d349c",
   "metadata": {
    "tags": []
   },
   "outputs": [],
   "source": [
    "model = 'vgg'  # 'vgg', 'resnet', 'alexnet', 'densenet'"
   ]
  },
  {
   "cell_type": "markdown",
   "id": "e39cc867-935a-4cb2-9e6a-4d321428dfde",
   "metadata": {},
   "source": [
    "## 1.1. Adam"
   ]
  },
  {
   "cell_type": "code",
   "execution_count": null,
   "id": "4afc45a0-88a6-433d-b5c0-bab2f01a6cce",
   "metadata": {
    "tags": []
   },
   "outputs": [],
   "source": [
    "optim = \"adam\""
   ]
  },
  {
   "cell_type": "code",
   "execution_count": null,
   "id": "e8bec98f-bf1f-4d03-93cd-c9a01ee874fd",
   "metadata": {},
   "outputs": [],
   "source": [
    "!CUDA_VISIBLE_DEVICES=0 python Experiments/classification_cifar10/main.py \\\n",
    "        --model $model  --optim $optim  --cal_eps"
   ]
  },
  {
   "cell_type": "markdown",
   "id": "6464b6fb-96f6-4abb-9ac1-8eb29ef0e38d",
   "metadata": {},
   "source": [
    "## 1.2. RMSprop"
   ]
  },
  {
   "cell_type": "code",
   "execution_count": null,
   "id": "585e845a-f7fd-4eb4-b200-7d2a56e7afa2",
   "metadata": {
    "tags": []
   },
   "outputs": [],
   "source": [
    "optim = \"rmsprop\""
   ]
  },
  {
   "cell_type": "code",
   "execution_count": null,
   "id": "9f122d1c-3dc3-4c8e-a160-f8af581aaf11",
   "metadata": {},
   "outputs": [],
   "source": [
    "!CUDA_VISIBLE_DEVICES=0 python Experiments/classification_cifar10/main.py \\\n",
    "        --model $model  --optim $optim  --cal_eps"
   ]
  },
  {
   "cell_type": "markdown",
   "id": "7b856c4d-038c-44f1-9e2e-ab1b240f200f",
   "metadata": {
    "tags": []
   },
   "source": [
    "## 1.3. AdaBelief"
   ]
  },
  {
   "cell_type": "code",
   "execution_count": null,
   "id": "6db9f912-f930-42bf-859e-1c9454cc5273",
   "metadata": {
    "tags": []
   },
   "outputs": [],
   "source": [
    "optim = \"adabelief\""
   ]
  },
  {
   "cell_type": "code",
   "execution_count": null,
   "id": "00647188-027e-4645-96ee-ca25af13d923",
   "metadata": {},
   "outputs": [],
   "source": [
    "!CUDA_VISIBLE_DEVICES=0 python Experiments/classification_cifar10/main.py \\\n",
    "        --model $model  --optim $optim  --cal_eps"
   ]
  },
  {
   "cell_type": "markdown",
   "id": "5e0a3d1f-14a1-4cc0-9fba-42c16ea94767",
   "metadata": {
    "tags": []
   },
   "source": [
    "## 1.4. AdamMomentum"
   ]
  },
  {
   "cell_type": "code",
   "execution_count": null,
   "id": "a191b9e2-fcaa-477f-9de5-5e79cd1443f0",
   "metadata": {
    "tags": []
   },
   "outputs": [],
   "source": [
    "optim = \"adammom\""
   ]
  },
  {
   "cell_type": "code",
   "execution_count": null,
   "id": "f3efde75-c0ec-4fa5-a909-80150aff0081",
   "metadata": {},
   "outputs": [],
   "source": [
    "!CUDA_VISIBLE_DEVICES=0 python Experiments/classification_cifar10/main.py \\\n",
    "        --model $model  --optim $optim  --cal_eps"
   ]
  },
  {
   "cell_type": "code",
   "execution_count": null,
   "id": "65d52d42-75f4-4da1-b1d1-f02885e9ec18",
   "metadata": {},
   "outputs": [],
   "source": []
  }
 ],
 "metadata": {
  "kernelspec": {
   "display_name": "Python 3 (ipykernel)",
   "language": "python",
   "name": "python3"
  },
  "language_info": {
   "codemirror_mode": {
    "name": "ipython",
    "version": 3
   },
   "file_extension": ".py",
   "mimetype": "text/x-python",
   "name": "python",
   "nbconvert_exporter": "python",
   "pygments_lexer": "ipython3",
   "version": "3.8.16"
  }
 },
 "nbformat": 4,
 "nbformat_minor": 5
}
