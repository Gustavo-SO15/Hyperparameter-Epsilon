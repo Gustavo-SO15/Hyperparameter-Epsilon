{
 "cells": [
  {
   "cell_type": "markdown",
   "id": "14f48b50-95f3-4e3b-9e31-c7863f080855",
   "metadata": {
    "tags": []
   },
   "source": [
    "#  Computing Search Space for Hyperparameter Epsilon"
   ]
  },
  {
   "cell_type": "markdown",
   "id": "795d3e29-9c77-43ff-9122-44781878f3e8",
   "metadata": {
    "tags": []
   },
   "source": [
    "## ******************************\n",
    "## 1. VGG11 Classifier #\n",
    "## ******************************"
   ]
  },
  {
   "cell_type": "code",
   "execution_count": null,
   "id": "79b35daa-2614-4944-84b4-c03e616d349c",
   "metadata": {
    "tags": []
   },
   "outputs": [],
   "source": [
    "model = 'vgg'"
   ]
  },
  {
   "cell_type": "markdown",
   "id": "6464b6fb-96f6-4abb-9ac1-8eb29ef0e38d",
   "metadata": {},
   "source": [
    "## 1.1. Adam"
   ]
  },
  {
   "cell_type": "code",
   "execution_count": null,
   "id": "585e845a-f7fd-4eb4-b200-7d2a56e7afa2",
   "metadata": {
    "tags": []
   },
   "outputs": [],
   "source": [
    "optim = \"adam\""
   ]
  },
  {
   "cell_type": "code",
   "execution_count": null,
   "id": "9f122d1c-3dc3-4c8e-a160-f8af581aaf11",
   "metadata": {},
   "outputs": [],
   "source": [
    "!CUDA_VISIBLE_DEVICES=0 python Experiments/classification_tiny_imagenet/main.py \\\n",
    "        --model $model  --optim $optim  --cal_eps"
   ]
  },
  {
   "cell_type": "markdown",
   "id": "f5d665d4-6589-4810-b59b-f28e2dbcc02b",
   "metadata": {
    "tags": []
   },
   "source": [
    "## ******************************\n",
    "## 2. AlexNet Classifier #\n",
    "## ******************************"
   ]
  },
  {
   "cell_type": "code",
   "execution_count": null,
   "id": "ede32de4-3c78-41b2-bb02-f47d2a99ca23",
   "metadata": {
    "tags": []
   },
   "outputs": [],
   "source": [
    "model = 'alexnet'"
   ]
  },
  {
   "cell_type": "markdown",
   "id": "d3b7d4a9-3d45-4b1e-8d0d-afaafb694db3",
   "metadata": {},
   "source": [
    "## 2.1. Adam"
   ]
  },
  {
   "cell_type": "code",
   "execution_count": null,
   "id": "8369f85c-d0c9-4f7b-ae06-86c1ff265917",
   "metadata": {
    "tags": []
   },
   "outputs": [],
   "source": [
    "optim = \"adam\""
   ]
  },
  {
   "cell_type": "code",
   "execution_count": null,
   "id": "059ff7b2-3667-4aca-b11f-7b16a4ba1a22",
   "metadata": {},
   "outputs": [],
   "source": [
    "!CUDA_VISIBLE_DEVICES=0 python Experiments/classification_tiny_imagenet/main.py \\\n",
    "        --model $model  --optim $optim  --cal_eps"
   ]
  },
  {
   "cell_type": "code",
   "execution_count": null,
   "id": "ec317b73-72ab-4bf7-91e7-395b017312d1",
   "metadata": {},
   "outputs": [],
   "source": []
  }
 ],
 "metadata": {
  "kernelspec": {
   "display_name": "Python 3 (ipykernel)",
   "language": "python",
   "name": "python3"
  },
  "language_info": {
   "codemirror_mode": {
    "name": "ipython",
    "version": 3
   },
   "file_extension": ".py",
   "mimetype": "text/x-python",
   "name": "python",
   "nbconvert_exporter": "python",
   "pygments_lexer": "ipython3",
   "version": "3.8.16"
  }
 },
 "nbformat": 4,
 "nbformat_minor": 5
}
