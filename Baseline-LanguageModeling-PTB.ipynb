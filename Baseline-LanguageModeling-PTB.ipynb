{
 "cells": [
  {
   "cell_type": "markdown",
   "id": "b17f6fd2-fe17-4280-8471-17867452a372",
   "metadata": {
    "tags": []
   },
   "source": [
    "#  Baseline: Varying Learning Rate VS Espilon (Grid Search)"
   ]
  },
  {
   "cell_type": "markdown",
   "id": "c337f148-c44f-4f47-94b6-34367765c126",
   "metadata": {
    "tags": []
   },
   "source": [
    "## ************************************************************\n",
    "## 1. Models  (1-Layer LSTM, 2-Layer LSTM)\n",
    "## ************************************************************"
   ]
  },
  {
   "cell_type": "code",
   "execution_count": null,
   "id": "37f41620",
   "metadata": {},
   "outputs": [],
   "source": [
    "nlayer = 1   # for 1-Layer LSTM model\n",
    "epochs = 200\n",
    "seed = 42"
   ]
  },
  {
   "cell_type": "markdown",
   "id": "df307c5c-f84b-4ef2-86ad-5a3f093f36a0",
   "metadata": {},
   "source": [
    "## 1.1. Adam"
   ]
  },
  {
   "cell_type": "code",
   "execution_count": null,
   "id": "f8dc3683-38cd-4ab7-89a7-599e2dcf1f26",
   "metadata": {},
   "outputs": [],
   "source": [
    "optim =  \"adam\"\n",
    "eps_vec = [1e-9, 1e-8, 1e-7, 1e-6, 1e-5, 1e-4, 1e-3]\n",
    "lr_vec = [1e-4, 2e-4, 5e-4, 1e-3, 2e-3, 5e-3, 1e-2, 2e-2, 5e-2, 1e-1]"
   ]
  },
  {
   "cell_type": "code",
   "execution_count": null,
   "id": "81ec854f-fbad-4273-9107-f25955b6cb55",
   "metadata": {
    "scrolled": true,
    "tags": []
   },
   "outputs": [],
   "source": [
    "for eps in eps_vec:  \n",
    "    for lr in lr_vec:  \n",
    "        print('eps: '+str(eps))\n",
    "        print('lr: '+str(lr))  \n",
    "        !python Experiments/LSTM/main.py --batch_size 20 --data data/penn \\\n",
    "        --dropouti 0.4 --dropouth 0.25 --seed $seed --epochs $epochs --save PTB.pt --when 100 145 --clip 0.25 \\\n",
    "        --beta1 0.9 --beta2 0.999 --optimizer $optim --lr $lr --eps $eps --eps_sqrt 0.0 --nlayer $nlayer --run 0\n",
    "        print('\\n \\n')"
   ]
  },
  {
   "cell_type": "markdown",
   "id": "2d8e65a3-b76a-4cc6-a440-d7eb448e3a1d",
   "metadata": {},
   "source": [
    "## 1.2. RMSprop"
   ]
  },
  {
   "cell_type": "code",
   "execution_count": null,
   "id": "cc4bc64d-5628-46b9-b92d-787187cb8c66",
   "metadata": {},
   "outputs": [],
   "source": [
    "optim =  \"rmsprop\"\n",
    "eps_vec = [1e-9, 1e-8, 1e-7, 1e-6, 1e-5, 1e-4, 1e-3]\n",
    "lr_vec = [1e-4, 2e-4, 5e-4, 1e-3, 2e-3, 5e-3, 1e-2, 2e-2, 5e-2, 1e-1]"
   ]
  },
  {
   "cell_type": "code",
   "execution_count": null,
   "id": "17b05a8e-bd9f-44cd-b9cc-86d68de95db7",
   "metadata": {
    "scrolled": true,
    "tags": []
   },
   "outputs": [],
   "source": [
    "for eps in eps_vec:  \n",
    "    for lr in lr_vec:  \n",
    "        print('eps: '+str(eps))\n",
    "        print('lr: '+str(lr))  \n",
    "        !python Experiments/LSTM/main.py --batch_size 20 --data data/penn \\\n",
    "        --dropouti 0.4 --dropouth 0.25 --seed $seed --epochs $epochs --save PTB.pt --when 100 145 --clip 0.25 \\\n",
    "        --beta1 0.9 --beta2 0.999 --optimizer $optim --lr $lr --eps $eps --eps_sqrt 0.0 --nlayer $nlayer --run 0\n",
    "        print('\\n \\n')"
   ]
  },
  {
   "cell_type": "markdown",
   "id": "cb31a33b-752b-4f0c-8d3c-c9c2a1c143e6",
   "metadata": {},
   "source": [
    "## 1.3. AdaBelief"
   ]
  },
  {
   "cell_type": "code",
   "execution_count": null,
   "id": "00ab489b-0f4c-46a2-be41-0d63b9c3fe4a",
   "metadata": {},
   "outputs": [],
   "source": [
    "optim =  \"adabelief\"\n",
    "eps_vec = [1e-20, 1e-18, 1e-16, 1e-14, 1e-12, 1e-10, 1e-8]\n",
    "lr_vec = [1e-4, 2e-4, 5e-4, 1e-3, 2e-3, 5e-3, 1e-2, 2e-2, 5e-2, 1e-1]"
   ]
  },
  {
   "cell_type": "code",
   "execution_count": null,
   "id": "a819689b-e7aa-490f-b80c-762cf67757c3",
   "metadata": {
    "scrolled": true,
    "tags": []
   },
   "outputs": [],
   "source": [
    "for eps in eps_vec:  \n",
    "    for lr in lr_vec:  \n",
    "        print('eps: '+str(eps))\n",
    "        print('lr: '+str(lr))  \n",
    "        !python Experiments/LSTM/main.py --batch_size 20 --data data/penn \\\n",
    "        --dropouti 0.4 --dropouth 0.25 --seed $seed --epochs $epochs --save PTB.pt --when 100 145 --clip 0.25 \\\n",
    "        --beta1 0.9 --beta2 0.999 --optimizer $optim --lr $lr --eps $eps --eps_sqrt 0.0 --nlayer $nlayer --run 0\n",
    "        print('\\n \\n')"
   ]
  },
  {
   "cell_type": "markdown",
   "id": "6ec25e5b-4983-450a-83a7-45e633ec2064",
   "metadata": {},
   "source": [
    "## 1.4. AdamMomentum"
   ]
  },
  {
   "cell_type": "code",
   "execution_count": null,
   "id": "bd40d9cd-982c-43fb-a328-dfba72bf788d",
   "metadata": {},
   "outputs": [],
   "source": [
    "optim =  \"adammom\"\n",
    "eps_vec = [1e-20, 1e-18, 1e-16, 1e-14, 1e-12, 1e-10, 1e-8]\n",
    "lr_vec = [1e-4, 2e-4, 5e-4, 1e-3, 2e-3, 5e-3, 1e-2, 2e-2, 5e-2, 1e-1]"
   ]
  },
  {
   "cell_type": "code",
   "execution_count": null,
   "id": "4c55470e-5175-4cda-94fa-b8e5c2f2201d",
   "metadata": {
    "scrolled": true,
    "tags": []
   },
   "outputs": [],
   "source": [
    "for eps in eps_vec:  \n",
    "    for lr in lr_vec:  \n",
    "        print('eps: '+str(eps))\n",
    "        print('lr: '+str(lr))  \n",
    "        !python Experiments/LSTM/main.py --batch_size 20 --data data/penn \\\n",
    "        --dropouti 0.4 --dropouth 0.25 --seed $seed --epochs $epochs --save PTB.pt --when 100 145 --clip 0.25 \\\n",
    "        --beta1 0.9 --beta2 0.999 --optimizer $optim --lr $lr --eps $eps --eps_sqrt 0.0 --nlayer $nlayer --run 0\n",
    "        print('\\n \\n')"
   ]
  },
  {
   "cell_type": "code",
   "execution_count": null,
   "id": "67a003fd-2eae-42ba-9bc6-7d6aeb6f8acf",
   "metadata": {},
   "outputs": [],
   "source": []
  }
 ],
 "metadata": {
  "kernelspec": {
   "display_name": "Python 3 (ipykernel)",
   "language": "python",
   "name": "python3"
  },
  "language_info": {
   "codemirror_mode": {
    "name": "ipython",
    "version": 3
   },
   "file_extension": ".py",
   "mimetype": "text/x-python",
   "name": "python",
   "nbconvert_exporter": "python",
   "pygments_lexer": "ipython3",
   "version": "3.8.16"
  }
 },
 "nbformat": 4,
 "nbformat_minor": 5
}
