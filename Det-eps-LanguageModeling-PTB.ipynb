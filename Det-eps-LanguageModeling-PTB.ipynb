{
 "cells": [
  {
   "cell_type": "markdown",
   "id": "45c8eb1c-da5f-4348-aad1-56223aa228c4",
   "metadata": {
    "tags": []
   },
   "source": [
    "#  Computing Search Space for Hyperparameter Epsilon"
   ]
  },
  {
   "cell_type": "markdown",
   "id": "09fc09bf-d60a-41b1-a5d7-d99ef094a1c2",
   "metadata": {
    "tags": []
   },
   "source": [
    "## ************************************************************\n",
    "## 1. Models  (1-Layer LSTM, 2-Layer LSTM)\n",
    "## ************************************************************"
   ]
  },
  {
   "cell_type": "code",
   "execution_count": null,
   "id": "ed376695-5ee4-411e-80c3-d0d11e1e1200",
   "metadata": {
    "tags": []
   },
   "outputs": [],
   "source": [
    "nlayer = 1   # for 1-Layer LSTM model\n",
    "seed = 42  "
   ]
  },
  {
   "cell_type": "markdown",
   "id": "34e41fc9-f482-4711-ba34-74c4ff0b2d43",
   "metadata": {},
   "source": [
    "## 1.1. Adam"
   ]
  },
  {
   "cell_type": "code",
   "execution_count": null,
   "id": "f302b4b2-09db-49a4-985d-5d6317d0ac58",
   "metadata": {},
   "outputs": [],
   "source": [
    "optim =  \"adam\""
   ]
  },
  {
   "cell_type": "code",
   "execution_count": null,
   "id": "cf45c63b-1949-40c4-8b14-e38a005cb7c8",
   "metadata": {
    "scrolled": true,
    "tags": []
   },
   "outputs": [],
   "source": [
    "!python Experiments/LSTM/main.py --batch_size 20 --data data/penn \\\n",
    "--dropouti 0.4 --dropouth 0.25 --seed $seed --save PTB.pt --when 100 145 --clip 0.25 \\\n",
    "--beta1 0.9 --beta2 0.999 --optimizer $optim --eps_sqrt 0.0 --nlayer $nlayer --run 0  --cal_eps"
   ]
  },
  {
   "cell_type": "markdown",
   "id": "d8b7b1ae-b2de-409a-b3b8-74ba5fef5cd3",
   "metadata": {},
   "source": [
    "## 1.2. RMSprop"
   ]
  },
  {
   "cell_type": "code",
   "execution_count": null,
   "id": "05170647-cacc-4ced-beed-c055b523e760",
   "metadata": {},
   "outputs": [],
   "source": [
    "optim =  \"rmsprop\""
   ]
  },
  {
   "cell_type": "code",
   "execution_count": null,
   "id": "dc6b4492-2e36-4bab-ab13-fe726b1285ec",
   "metadata": {
    "scrolled": true,
    "tags": []
   },
   "outputs": [],
   "source": [
    "!python Experiments/LSTM/main.py --batch_size 20 --data data/penn \\\n",
    "--dropouti 0.4 --dropouth 0.25 --seed $seed --save PTB.pt --when 100 145 --clip 0.25 \\\n",
    "--beta1 0.9 --beta2 0.999 --optimizer $optim --eps_sqrt 0.0 --nlayer $nlayer --run 0  --cal_eps"
   ]
  },
  {
   "cell_type": "markdown",
   "id": "ab853ad6-91a5-476e-80ee-8893ec85f940",
   "metadata": {},
   "source": [
    "## 1.3. AdaBelief"
   ]
  },
  {
   "cell_type": "code",
   "execution_count": null,
   "id": "5e88d442-afb3-4d13-a3f2-54c7adf40267",
   "metadata": {},
   "outputs": [],
   "source": [
    "optim =  \"adabelief\""
   ]
  },
  {
   "cell_type": "code",
   "execution_count": null,
   "id": "116dab39-91cf-46fc-b1e4-5d2934540f18",
   "metadata": {
    "scrolled": true,
    "tags": []
   },
   "outputs": [],
   "source": [
    "!python Experiments/LSTM/main.py --batch_size 20 --data data/penn \\\n",
    "--dropouti 0.4 --dropouth 0.25 --seed $seed --save PTB.pt --when 100 145 --clip 0.25 \\\n",
    "--beta1 0.9 --beta2 0.999 --optimizer $optim --eps_sqrt 0.0 --nlayer $nlayer --run 0  --cal_eps"
   ]
  },
  {
   "cell_type": "markdown",
   "id": "c724814c-c827-43ec-a504-65fe99edd36a",
   "metadata": {},
   "source": [
    "## 1.4. AdamMomentum"
   ]
  },
  {
   "cell_type": "code",
   "execution_count": null,
   "id": "18d64ac1-8144-4041-a1ca-04703dfd2e5d",
   "metadata": {},
   "outputs": [],
   "source": [
    "optim =  \"adammom\""
   ]
  },
  {
   "cell_type": "code",
   "execution_count": null,
   "id": "5fb9c6b7-dc02-4298-bf11-232214aaec2f",
   "metadata": {
    "scrolled": true,
    "tags": []
   },
   "outputs": [],
   "source": [
    "!python Experiments/LSTM/main.py --batch_size 20 --data data/penn \\\n",
    "--dropouti 0.4 --dropouth 0.25 --seed $seed --save PTB.pt --when 100 145 --clip 0.25 \\\n",
    "--beta1 0.9 --beta2 0.999 --optimizer $optim --eps_sqrt 0.0 --nlayer $nlayer --run 0  --cal_eps"
   ]
  },
  {
   "cell_type": "code",
   "execution_count": null,
   "id": "6d410268-7444-47bd-b983-29a092c2ed1c",
   "metadata": {},
   "outputs": [],
   "source": []
  },
  {
   "cell_type": "code",
   "execution_count": null,
   "id": "82301893-894f-4d35-9154-e1b3d95b2acd",
   "metadata": {},
   "outputs": [],
   "source": []
  }
 ],
 "metadata": {
  "kernelspec": {
   "display_name": "Python 3 (ipykernel)",
   "language": "python",
   "name": "python3"
  },
  "language_info": {
   "codemirror_mode": {
    "name": "ipython",
    "version": 3
   },
   "file_extension": ".py",
   "mimetype": "text/x-python",
   "name": "python",
   "nbconvert_exporter": "python",
   "pygments_lexer": "ipython3",
   "version": "3.8.16"
  }
 },
 "nbformat": 4,
 "nbformat_minor": 5
}
